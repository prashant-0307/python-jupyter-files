{
 "cells": [
  {
   "cell_type": "markdown",
   "id": "992223ab-d443-4a75-bc27-898d57970db2",
   "metadata": {},
   "source": [
    "Boolen Datatype"
   ]
  },
  {
   "cell_type": "code",
   "execution_count": 1,
   "id": "ccce14b2-ff8a-441a-9856-6ccf24e595ef",
   "metadata": {},
   "outputs": [
    {
     "name": "stdout",
     "output_type": "stream",
     "text": [
      "True\n"
     ]
    }
   ],
   "source": [
    "a = 20\n",
    "b = 10\n",
    "c = a > b\n",
    "print(c)"
   ]
  },
  {
   "cell_type": "code",
   "execution_count": 5,
   "id": "0e410bc3-75a6-4292-a3bc-6231956cf0fa",
   "metadata": {},
   "outputs": [
    {
     "name": "stdout",
     "output_type": "stream",
     "text": [
      "False\n"
     ]
    }
   ],
   "source": [
    "c = a < b and a > b\n",
    "print(c)"
   ]
  },
  {
   "cell_type": "code",
   "execution_count": 6,
   "id": "2266bc5c-b2ca-49ff-90f1-d46ad8a54c42",
   "metadata": {},
   "outputs": [
    {
     "name": "stdout",
     "output_type": "stream",
     "text": [
      "True\n"
     ]
    }
   ],
   "source": [
    "c = a < b or a > b\n",
    "print(c)"
   ]
  },
  {
   "cell_type": "markdown",
   "id": "5f6a63e7-13d0-487b-835c-56ecac8d3232",
   "metadata": {},
   "source": [
    "if - else"
   ]
  },
  {
   "cell_type": "code",
   "execution_count": 9,
   "id": "67a17f0b-f062-43d2-9c56-6655928787b9",
   "metadata": {},
   "outputs": [
    {
     "name": "stdout",
     "output_type": "stream",
     "text": [
      "odd\n"
     ]
    }
   ],
   "source": [
    "a = 23\n",
    "\n",
    "if( a % 2 == 0):\n",
    "    print(\"even\")\n",
    "else:\n",
    "    print(\"odd\")"
   ]
  },
  {
   "cell_type": "markdown",
   "id": "bedcd37e-dd78-4dd7-af75-6edfe5b627c7",
   "metadata": {},
   "source": [
    "While loop"
   ]
  },
  {
   "cell_type": "code",
   "execution_count": 7,
   "id": "e48ec794-288a-40c0-8c0f-8dba0cb2c68c",
   "metadata": {},
   "outputs": [
    {
     "name": "stdout",
     "output_type": "stream",
     "text": [
      "1\n",
      "2\n",
      "3\n",
      "4\n"
     ]
    }
   ],
   "source": [
    "a = 1\n",
    "\n",
    "while a < 5:\n",
    "    print(a)\n",
    "    a = a +1"
   ]
  },
  {
   "cell_type": "code",
   "execution_count": null,
   "id": "5408155c-c532-4fa4-9051-7329d9baf8bd",
   "metadata": {},
   "outputs": [],
   "source": []
  }
 ],
 "metadata": {
  "kernelspec": {
   "display_name": "Python 3 (ipykernel)",
   "language": "python",
   "name": "python3"
  },
  "language_info": {
   "codemirror_mode": {
    "name": "ipython",
    "version": 3
   },
   "file_extension": ".py",
   "mimetype": "text/x-python",
   "name": "python",
   "nbconvert_exporter": "python",
   "pygments_lexer": "ipython3",
   "version": "3.13.1"
  }
 },
 "nbformat": 4,
 "nbformat_minor": 5
}
