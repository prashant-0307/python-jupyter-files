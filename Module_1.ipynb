{
 "cells": [
  {
   "cell_type": "markdown",
   "id": "5ff8abe1-7032-4765-845c-7c43093e16af",
   "metadata": {
    "jp-MarkdownHeadingCollapsed": true
   },
   "source": [
    "Hello world"
   ]
  },
  {
   "cell_type": "code",
   "execution_count": 2,
   "id": "9c4ff296-abc2-4526-87f7-c5cbc71eea78",
   "metadata": {},
   "outputs": [
    {
     "name": "stdout",
     "output_type": "stream",
     "text": [
      "Hello World!\n"
     ]
    }
   ],
   "source": [
    "print(\"Hello World!\")"
   ]
  },
  {
   "cell_type": "markdown",
   "id": "f4671ccb-fbcf-491d-bdae-aeb4ae7f3eac",
   "metadata": {},
   "source": [
    "Jupyter Notebook \n",
    "\n",
    "Jupyter notebook is a web application that lets user create and share interactive document that contain code equation visualization and more it's used for many data science task"
   ]
  },
  {
   "cell_type": "markdown",
   "id": "d34833a4-8607-4e9f-b5e7-e90d859bfb4b",
   "metadata": {},
   "source": [
    "variable in python"
   ]
  },
  {
   "cell_type": "code",
   "execution_count": 6,
   "id": "22cdc76d-1a57-4e82-9a89-c5c4eea9c527",
   "metadata": {},
   "outputs": [
    {
     "name": "stdout",
     "output_type": "stream",
     "text": [
      "<class 'int'>\n",
      "10\n"
     ]
    }
   ],
   "source": [
    "a = 10    # to store the data in particular location which has meaningfull name that is called variables\n",
    "print(type(a))\n",
    "print(a)"
   ]
  },
  {
   "cell_type": "code",
   "execution_count": 7,
   "id": "d5a08a4c-3f84-40fa-aa09-a88afdaa5542",
   "metadata": {},
   "outputs": [
    {
     "name": "stdout",
     "output_type": "stream",
     "text": [
      "<class 'float'>\n",
      "1.7\n"
     ]
    }
   ],
   "source": [
    "b = 1.7\n",
    "print(type(b))\n",
    "print(b)"
   ]
  },
  {
   "cell_type": "code",
   "execution_count": 17,
   "id": "5af4b684-8759-4fc8-9646-ea2d05a1cd39",
   "metadata": {},
   "outputs": [
    {
     "name": "stdout",
     "output_type": "stream",
     "text": [
      "<class 'str'>\n",
      "hello world\n"
     ]
    }
   ],
   "source": [
    "c = \"hello world\" \n",
    "print(type(c))\n",
    "print(c)"
   ]
  },
  {
   "cell_type": "markdown",
   "id": "6e0b1863-39c7-41b4-9ec8-5e74ccf75934",
   "metadata": {},
   "source": [
    "DataTypes in python"
   ]
  },
  {
   "cell_type": "code",
   "execution_count": 26,
   "id": "b71dbb58-8afd-4f82-b496-5fc74103bdfe",
   "metadata": {},
   "outputs": [
    {
     "name": "stdout",
     "output_type": "stream",
     "text": [
      "<class 'str'>\n",
      "10.0\n",
      "<class 'float'>\n"
     ]
    }
   ],
   "source": [
    "a = \"10\"  # int , float , string \n",
    "print(type(a))\n",
    "b = float(a)\n",
    "print(b)\n",
    "print(type(b))"
   ]
  },
  {
   "cell_type": "markdown",
   "id": "d7a1d886-479c-4c29-b0d4-845d9810ebf9",
   "metadata": {},
   "source": [
    "arithmetic operation"
   ]
  },
  {
   "cell_type": "code",
   "execution_count": 28,
   "id": "a74ca798-5917-4a0f-a26b-39cf88f6306a",
   "metadata": {},
   "outputs": [
    {
     "name": "stdout",
     "output_type": "stream",
     "text": [
      "30\n"
     ]
    }
   ],
   "source": [
    "a = 10 \n",
    "b = 20 \n",
    "c = a + b\n",
    "print(c)"
   ]
  },
  {
   "cell_type": "code",
   "execution_count": 29,
   "id": "cd8ece2d-3b17-45c6-9e5a-646dcd65a0b3",
   "metadata": {},
   "outputs": [
    {
     "name": "stdout",
     "output_type": "stream",
     "text": [
      "-10\n"
     ]
    }
   ],
   "source": [
    "c = a - b\n",
    "print(c)"
   ]
  },
  {
   "cell_type": "code",
   "execution_count": 31,
   "id": "7c2823a2-72a0-4b43-8c62-b9cd0180fb6f",
   "metadata": {},
   "outputs": [
    {
     "name": "stdout",
     "output_type": "stream",
     "text": [
      "0\n"
     ]
    }
   ],
   "source": [
    "c = a // b\n",
    "print(c)"
   ]
  },
  {
   "cell_type": "markdown",
   "id": "af3b8456-20b8-4f3c-a35f-19dc73779e70",
   "metadata": {},
   "source": [
    "taking input"
   ]
  },
  {
   "cell_type": "code",
   "execution_count": 32,
   "id": "68443482-66b8-42d1-b3b4-cb92d5fbe485",
   "metadata": {},
   "outputs": [
    {
     "name": "stdin",
     "output_type": "stream",
     "text": [
      "enter no 1 : 10\n",
      "enter no 2 : 20\n"
     ]
    },
    {
     "name": "stdout",
     "output_type": "stream",
     "text": [
      "30\n"
     ]
    }
   ],
   "source": [
    "a = int(input(\"enter no 1 :\"))\n",
    "b = int(input(\"enter no 2 :\"))\n",
    "\n",
    "c = a + b\n",
    "print(c)"
   ]
  },
  {
   "cell_type": "code",
   "execution_count": 33,
   "id": "f2692e1f-beec-49ee-a0b4-5d5d5e74b882",
   "metadata": {},
   "outputs": [
    {
     "name": "stdout",
     "output_type": "stream",
     "text": [
      "-10\n"
     ]
    }
   ],
   "source": [
    "c = a - b\n",
    "print(c)"
   ]
  }
 ],
 "metadata": {
  "kernelspec": {
   "display_name": "Python 3 (ipykernel)",
   "language": "python",
   "name": "python3"
  },
  "language_info": {
   "codemirror_mode": {
    "name": "ipython",
    "version": 3
   },
   "file_extension": ".py",
   "mimetype": "text/x-python",
   "name": "python",
   "nbconvert_exporter": "python",
   "pygments_lexer": "ipython3",
   "version": "3.13.1"
  }
 },
 "nbformat": 4,
 "nbformat_minor": 5
}
