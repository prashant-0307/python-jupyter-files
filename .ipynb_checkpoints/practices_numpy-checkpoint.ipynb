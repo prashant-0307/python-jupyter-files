{
 "cells": [
  {
   "cell_type": "code",
   "execution_count": 15,
   "id": "97954fe6-1664-4070-b06d-d5ab22ad488b",
   "metadata": {},
   "outputs": [],
   "source": [
    "import numpy as np"
   ]
  },
  {
   "cell_type": "code",
   "execution_count": 28,
   "id": "a8447b63-b9b4-4e59-aadd-fdadd1095b37",
   "metadata": {},
   "outputs": [
    {
     "data": {
      "text/plain": [
       "array([ 5, 10, 15, 20, 25, 30])"
      ]
     },
     "execution_count": 28,
     "metadata": {},
     "output_type": "execute_result"
    }
   ],
   "source": [
    "arr = np.array([1,2,3,4,5,6])\n",
    "arr * 5"
   ]
  },
  {
   "cell_type": "code",
   "execution_count": 31,
   "id": "0a097d2b-34be-4aa9-bb7a-8afe57fb8550",
   "metadata": {},
   "outputs": [
    {
     "data": {
      "text/plain": [
       "array([[1, 2, 3, 4, 5, 6]])"
      ]
     },
     "execution_count": 31,
     "metadata": {},
     "output_type": "execute_result"
    }
   ],
   "source": [
    "arr_reshape = arr.reshape(1,6)\n",
    "arr_reshape\n"
   ]
  },
  {
   "cell_type": "code",
   "execution_count": 35,
   "id": "e79f4e82-3df4-4d58-bf69-874e970b5875",
   "metadata": {},
   "outputs": [
    {
     "name": "stdout",
     "output_type": "stream",
     "text": [
      "[ 1 11 11 11 11 14]\n",
      "[ 0 18 24 28 30 48]\n"
     ]
    }
   ],
   "source": [
    "arr2 = np.array([0,9,8,7,6,8])\n",
    "\n",
    "print(arr + arr2)\n",
    "print(arr * arr2)"
   ]
  },
  {
   "cell_type": "code",
   "execution_count": 39,
   "id": "eb2c8a12-78fc-44ba-9470-f09f315bc028",
   "metadata": {},
   "outputs": [
    {
     "name": "stdout",
     "output_type": "stream",
     "text": [
      "3.5\n",
      "3.5\n",
      "1.707825127659933\n",
      "Mean 3.5 Median 3.5 Std 1.707825127659933\n"
     ]
    }
   ],
   "source": [
    "mean = np.mean(arr)\n",
    "median = np.median(arr)\n",
    "std = np.std(arr)\n",
    "print(mean)\n",
    "print(median)\n",
    "print(std)\n",
    "print(f\"Mean {mean} Median {median} Std {std}\")"
   ]
  },
  {
   "cell_type": "code",
   "execution_count": 41,
   "id": "7d0f3359-03d6-4183-8543-d5cdce8b7ce6",
   "metadata": {},
   "outputs": [
    {
     "name": "stdout",
     "output_type": "stream",
     "text": [
      "[4 5 6]\n"
     ]
    }
   ],
   "source": [
    "filter_data = arr[arr > mean]\n",
    "print(filter_data)"
   ]
  },
  {
   "cell_type": "code",
   "execution_count": 58,
   "id": "f81fe1af-a274-4df0-93ea-8d4add9ff98f",
   "metadata": {},
   "outputs": [
    {
     "data": {
      "text/plain": [
       "array([9, 3, 6, 4, 3, 7, 3, 6, 8, 5], dtype=int32)"
      ]
     },
     "execution_count": 58,
     "metadata": {},
     "output_type": "execute_result"
    }
   ],
   "source": [
    "arr3 = np.random.randint(0,10,(10))\n",
    "arr3"
   ]
  },
  {
   "cell_type": "code",
   "execution_count": 62,
   "id": "ace3bdb0-fac5-4a80-8f8a-5bccd81aa2f7",
   "metadata": {},
   "outputs": [
    {
     "data": {
      "text/plain": [
       "array([6, 4, 6, 8], dtype=int32)"
      ]
     },
     "execution_count": 62,
     "metadata": {},
     "output_type": "execute_result"
    }
   ],
   "source": [
    "arr3[arr3 > 5]\n",
    "arr3[arr3 % 2 == 0]"
   ]
  },
  {
   "cell_type": "code",
   "execution_count": 69,
   "id": "0d249f5e-6328-4a58-b487-052dd1b81c7a",
   "metadata": {},
   "outputs": [
    {
     "name": "stdout",
     "output_type": "stream",
     "text": [
      "3\n",
      "9\n"
     ]
    }
   ],
   "source": [
    "print(np.min(arr3))\n",
    "print(np.max(arr3))\n",
    "\n"
   ]
  }
 ],
 "metadata": {
  "kernelspec": {
   "display_name": "Python 3 (ipykernel)",
   "language": "python",
   "name": "python3"
  },
  "language_info": {
   "codemirror_mode": {
    "name": "ipython",
    "version": 3
   },
   "file_extension": ".py",
   "mimetype": "text/x-python",
   "name": "python",
   "nbconvert_exporter": "python",
   "pygments_lexer": "ipython3",
   "version": "3.13.1"
  }
 },
 "nbformat": 4,
 "nbformat_minor": 5
}
