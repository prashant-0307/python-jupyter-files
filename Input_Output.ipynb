{
 "cells": [
  {
   "cell_type": "code",
   "execution_count": null,
   "id": "4d61c0df-366f-46f0-95b2-9eef90424ff1",
   "metadata": {},
   "outputs": [],
   "source": []
  }
 ],
 "metadata": {
  "kernelspec": {
   "display_name": "",
   "name": ""
  },
  "language_info": {
   "name": ""
  }
 },
 "nbformat": 4,
 "nbformat_minor": 5
}
