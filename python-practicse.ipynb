{
 "cells": [
  {
   "cell_type": "code",
   "execution_count": 2,
   "id": "18593f91-9d14-4adb-b229-a6d6400a41fb",
   "metadata": {},
   "outputs": [
    {
     "name": "stdout",
     "output_type": "stream",
     "text": [
      "hello world\n"
     ]
    }
   ],
   "source": [
    "print(\"hello world\")"
   ]
  },
  {
   "cell_type": "code",
   "execution_count": 3,
   "id": "3c385fd5-68db-4e98-9eb2-e5cbdf362c7c",
   "metadata": {},
   "outputs": [
    {
     "name": "stdout",
     "output_type": "stream",
     "text": [
      "1 2.3 hello\n"
     ]
    }
   ],
   "source": [
    "#dataypes\n",
    "a = 1\n",
    "b = 2.3\n",
    "c = \"hello\"\n",
    "\n",
    "print(a,b,c)"
   ]
  },
  {
   "cell_type": "code",
   "execution_count": 14,
   "id": "3769fa56-260f-4406-b140-9b5092fac167",
   "metadata": {},
   "outputs": [
    {
     "name": "stdout",
     "output_type": "stream",
     "text": [
      "<class 'float'>\n"
     ]
    }
   ],
   "source": [
    "# typecasting \n",
    "\n",
    "a = 123\n",
    "b = float(a)\n",
    "print(type(b))"
   ]
  },
  {
   "cell_type": "code",
   "execution_count": 17,
   "id": "d62ab713-84f6-44e2-a42d-92af30e59263",
   "metadata": {},
   "outputs": [
    {
     "name": "stdout",
     "output_type": "stream",
     "text": [
      "hello world\n"
     ]
    },
    {
     "name": "stdout",
     "output_type": "stream",
     "text": [
      "enter no 1\n"
     ]
    },
    {
     "name": "stdout",
     "output_type": "stream",
     "text": [
      "1\n"
     ]
    }
   ],
   "source": [
    "# print() , input()\n",
    "print(\"hello world\")\n",
    "a = int(input(\"enter no\"))\n",
    "print(a)"
   ]
  },
  {
   "cell_type": "code",
   "execution_count": 40,
   "id": "2e07799b-6a02-4509-a71e-7d418557ea02",
   "metadata": {
    "scrolled": true
   },
   "outputs": [
    {
     "name": "stdout",
     "output_type": "stream",
     "text": [
      "Arithmetic Operator\n",
      "15\n",
      "-5\n",
      "50\n",
      "0.5\n",
      "\n",
      "\n",
      "\n",
      "Comparison Operator\n",
      "False\n",
      "True\n",
      "False\n",
      "True\n",
      "False\n",
      "\n",
      "\n",
      "\n",
      "logical Operator\n",
      "False\n",
      "False\n",
      "5 False\n",
      "\n",
      "\n",
      "\n",
      "Assignment Operator\n",
      "7\n",
      "8\n",
      "7\n",
      "7\n"
     ]
    }
   ],
   "source": [
    "# operators\n",
    "# 1) arithmetic operator\n",
    "a = 5 \n",
    "b = 10\n",
    "print(\"Arithmetic Operator\")\n",
    "print(a+b)\n",
    "print(a-b)\n",
    "print(a*b)\n",
    "print(a/b)\n",
    "print(\"\\n\\n\")\n",
    "# 2) comparison operator\n",
    "print(\"Comparison Operator\")\n",
    "print(a>b)\n",
    "print(a<b)\n",
    "print(a==b)\n",
    "print(a<=b)\n",
    "print(a>=b)\n",
    "print(\"\\n\\n\")\n",
    "# 3) loogical operator\n",
    "print(\"logical Operator\")\n",
    "print(a == b and a == b)\n",
    "print(a == b or a == b)\n",
    "print(a ,not b)\n",
    "print(\"\\n\\n\")\n",
    "# 4) Assignment Operator\n",
    "print(\"Assignment Operator\")\n",
    "a = 7\n",
    "print(a)\n",
    "a += 1\n",
    "print(a)\n",
    "a -= 1 \n",
    "print(a)\n",
    "a !=1\n",
    "print(a)\n",
    "\n"
   ]
  },
  {
   "cell_type": "code",
   "execution_count": 1,
   "id": "0cd86ad8-0d5d-4ae6-96a2-d60cac248822",
   "metadata": {
    "collapsed": true,
    "jupyter": {
     "outputs_hidden": true
    }
   },
   "outputs": [
    {
     "name": "stdout",
     "output_type": "stream",
     "text": [
      "while loop\n",
      "hello world 1\n",
      "hello world 2\n",
      "hello world 3\n",
      "hello world 4\n",
      "\n",
      "\n",
      "for loop\n",
      "hello world 1\n",
      "hello world 2\n",
      "hello world 3\n",
      "hello world 4\n",
      "\n",
      "\n",
      "break loop\n",
      "1\n",
      "2\n",
      "continue loop\n",
      "1\n",
      "2\n",
      "4\n",
      "\n",
      "\n",
      "pass\n"
     ]
    }
   ],
   "source": [
    "# control statement\n",
    "# 1) while loop\n",
    "print(\"while loop\")\n",
    "a = 1 \n",
    "while(a < 5):\n",
    "    print(\"hello world\",a)\n",
    "    a += 1\n",
    "print(\"\\n\")\n",
    "\n",
    "# 2) for loop\n",
    "print(\"for loop\")\n",
    "for i in range(1,5):\n",
    "    print(\"hello world\",i)\n",
    "print(\"\\n\")\n",
    "# 3) break loop\n",
    "print(\"break loop\")\n",
    "for i in range(1,5):\n",
    "    if i == 3:\n",
    "        break\n",
    "    print(i)\n",
    "# 4) continue loop\n",
    "print(\"continue loop\")\n",
    "for i in range (1,5):\n",
    "    if i == 3:\n",
    "        continue\n",
    "    print(i)\n",
    "print(\"\\n\")\n",
    "# 5) pass loop\n",
    "print(\"pass\")\n",
    "for i in range(1,5):\n",
    "    pass"
   ]
  },
  {
   "cell_type": "code",
   "execution_count": 5,
   "id": "18e47a43-3f35-4c89-be53-8cc7093c315e",
   "metadata": {},
   "outputs": [
    {
     "name": "stdout",
     "output_type": "stream",
     "text": [
      "8\n",
      "1 5\n",
      "constructor <class '__main__.a'>\n"
     ]
    }
   ],
   "source": [
    "# functions \n",
    "# function initilizing and calling\n",
    "def fun():\n",
    "    print(4+4)\n",
    "fun()\n",
    "# function with parameters\n",
    "def fun(a,b):\n",
    "    print(a,b)\n",
    "fun(1,5)\n",
    "\n",
    "# class\n",
    "class a:\n",
    "    global a\n",
    "    def __init__(self):\n",
    "        print(\"constructor\",a)\n",
    "\n",
    "obj = a()\n",
    "\n"
   ]
  }
 ],
 "metadata": {
  "kernelspec": {
   "display_name": "Python 3",
   "language": "python",
   "name": "python3"
  },
  "language_info": {
   "codemirror_mode": {
    "name": "ipython",
    "version": 3
   },
   "file_extension": ".py",
   "mimetype": "text/x-python",
   "name": "python",
   "nbconvert_exporter": "python",
   "pygments_lexer": "ipython3",
   "version": "3.13.1"
  }
 },
 "nbformat": 4,
 "nbformat_minor": 5
}
